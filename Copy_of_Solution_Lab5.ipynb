{
  "nbformat": 4,
  "nbformat_minor": 0,
  "metadata": {
    "colab": {
      "name": "Copy of Solution Lab5.ipynb",
      "provenance": [],
      "collapsed_sections": [],
      "authorship_tag": "ABX9TyPRQmC2F7PFbqmiBWQ/MvsO",
      "include_colab_link": true
    },
    "kernelspec": {
      "name": "python3",
      "display_name": "Python 3"
    },
    "accelerator": "GPU"
  },
  "cells": [
    {
      "cell_type": "markdown",
      "metadata": {
        "id": "view-in-github",
        "colab_type": "text"
      },
      "source": [
        "<a href=\"https://colab.research.google.com/github/ibext/AI-project/blob/main/Copy_of_Solution_Lab5.ipynb\" target=\"_parent\"><img src=\"https://colab.research.google.com/assets/colab-badge.svg\" alt=\"Open In Colab\"/></a>"
      ]
    },
    {
      "cell_type": "markdown",
      "metadata": {
        "id": "5SWw7GiVUj4g"
      },
      "source": [
        "#          **Laboratory 6**\r\n",
        "\r\n",
        "#*Exercise 1 *\r\n",
        "\r\n",
        "Using tensorflow, construct and train a CNN for classification of MNIST dataset. Be able to explain details of your implementation and justify the decisions made. \r\n",
        " \r\n"
      ]
    },
    {
      "cell_type": "code",
      "metadata": {
        "id": "cywtCPa0T25a"
      },
      "source": [
        "!pip install tensorflow keras numpy mnist matplotlib\r\n"
      ],
      "execution_count": null,
      "outputs": []
    },
    {
      "cell_type": "code",
      "metadata": {
        "id": "Yy4zrrqAVhBC"
      },
      "source": [
        "#import the packages / dependencies\r\n",
        "import numpy as np\r\n",
        "import mnist #Get data set from \r\n",
        "import matplotlib.pyplot as plt #Graph\r\n",
        "from keras.models import Sequential #ANN architecture\r\n",
        "from keras.layers import Dense #The layers in the ANN\r\n",
        "from keras.utils import to_categorical"
      ],
      "execution_count": null,
      "outputs": []
    },
    {
      "cell_type": "code",
      "metadata": {
        "id": "TiaZka8JZ2dr"
      },
      "source": [
        "#load the dataset \r\n",
        "train_images = mnist.train_images() #training data images\r\n",
        "train_labels = mnist.train_labels() #training data labels\r\n",
        "test_images  = mnist.test_images() #testing data images\r\n",
        "test_labels = mnist.test_labels()  #testing data labels"
      ],
      "execution_count": null,
      "outputs": []
    },
    {
      "cell_type": "code",
      "metadata": {
        "colab": {
          "base_uri": "https://localhost:8080/"
        },
        "id": "0F54rvBMa4Tu",
        "outputId": "ccbb1e5e-e130-499f-f953-5e4b8d91e7c1"
      },
      "source": [
        "#Normize the images. Normalize the pixel value from [0, 255] to [-0.5 , 0.5] to make our network easier to train\r\n",
        "train_images = (train_images/255) - 0.5\r\n",
        "test_images = (test_images/255) - 0.5\r\n",
        "\r\n",
        "#Flatten the images. flatten each 28X28 image into a 28^2 = 784 dimensional vector to pass into the neural network\r\n",
        "train_images = train_images.reshape((-1, 784))\r\n",
        "test_images = test_images.reshape((-1, 784))\r\n",
        "\r\n",
        "#Priint the shape\r\n",
        "print(train_images.shape) #60,000 rows and 784 cols\r\n",
        "print(test_images.shape) #10,000 rows and 784 cols"
      ],
      "execution_count": null,
      "outputs": [
        {
          "output_type": "stream",
          "text": [
            "(60000, 784)\n",
            "(10000, 784)\n"
          ],
          "name": "stdout"
        }
      ]
    },
    {
      "cell_type": "code",
      "metadata": {
        "id": "lYkZ_116egOt"
      },
      "source": [
        "#Build the model \r\n",
        "# 3 layers, 2 layers with 64 neurons and the Relu function\r\n",
        "# 1 layers with 10 neurons and softmax function\r\n",
        "model = Sequential()\r\n",
        "model.add(Dense (64, activation=\"relu\", input_dim =784))\r\n",
        "model.add(Dense(64, activation=\"relu\"))\r\n",
        "model.add(Dense(10, activation=\"softmax\"))"
      ],
      "execution_count": null,
      "outputs": []
    },
    {
      "cell_type": "code",
      "metadata": {
        "id": "DaE0EDqlhKlc"
      },
      "source": [
        "#compile the model\r\n",
        "#The loss function measures how well the model did on training, and then tries to improve on it using the optimizer\r\n",
        "model.compile(\r\n",
        "    optimizer= \"adam\", \r\n",
        "    loss = \"categorical_crossentropy\", #classes that are greater than 2\r\n",
        "    metrics = ['accuracy']\r\n",
        ")"
      ],
      "execution_count": null,
      "outputs": []
    },
    {
      "cell_type": "code",
      "metadata": {
        "colab": {
          "base_uri": "https://localhost:8080/"
        },
        "id": "g4xEIP6uipqS",
        "outputId": "94008890-5ff7-4926-cedb-35a744324835"
      },
      "source": [
        "#Train the model\r\n",
        "model.fit(\r\n",
        "    train_images,\r\n",
        "    to_categorical(train_labels), #It is expected to be on this form [1,1,0,0,0,0,0,1,0,1]\r\n",
        "    epochs = 5, #the number of iteration over the entire dataset to train on\r\n",
        "    batch_size = 32 #the number of sample per gradient update for training \r\n",
        ")"
      ],
      "execution_count": null,
      "outputs": [
        {
          "output_type": "stream",
          "text": [
            "Epoch 1/5\n",
            "1875/1875 [==============================] - 4s 2ms/step - loss: 0.5816 - accuracy: 0.8214\n",
            "Epoch 2/5\n",
            "1875/1875 [==============================] - 4s 2ms/step - loss: 0.2154 - accuracy: 0.9347\n",
            "Epoch 3/5\n",
            "1875/1875 [==============================] - 4s 2ms/step - loss: 0.1585 - accuracy: 0.9519\n",
            "Epoch 4/5\n",
            "1875/1875 [==============================] - 4s 2ms/step - loss: 0.1301 - accuracy: 0.9601\n",
            "Epoch 5/5\n",
            "1875/1875 [==============================] - 4s 2ms/step - loss: 0.1112 - accuracy: 0.9655\n"
          ],
          "name": "stdout"
        },
        {
          "output_type": "execute_result",
          "data": {
            "text/plain": [
              "<tensorflow.python.keras.callbacks.History at 0x7fe1261398d0>"
            ]
          },
          "metadata": {
            "tags": []
          },
          "execution_count": 60
        }
      ]
    },
    {
      "cell_type": "code",
      "metadata": {
        "colab": {
          "base_uri": "https://localhost:8080/"
        },
        "id": "verRN-pnkXfu",
        "outputId": "05c9b2d3-48ca-47cb-e659-30c12fba0289"
      },
      "source": [
        "#Evaluate the model \r\n",
        "model.evaluate(\r\n",
        "    test_images,\r\n",
        "    to_categorical(test_labels)\r\n",
        ")"
      ],
      "execution_count": null,
      "outputs": [
        {
          "output_type": "stream",
          "text": [
            "313/313 [==============================] - 1s 2ms/step - loss: 0.1499 - accuracy: 0.9515\n"
          ],
          "name": "stdout"
        },
        {
          "output_type": "execute_result",
          "data": {
            "text/plain": [
              "[0.14988389611244202, 0.9514999985694885]"
            ]
          },
          "metadata": {
            "tags": []
          },
          "execution_count": 61
        }
      ]
    },
    {
      "cell_type": "code",
      "metadata": {
        "colab": {
          "base_uri": "https://localhost:8080/"
        },
        "id": "-M9ZUfzglCsC",
        "outputId": "b0d0e3c3-c939-4ef4-9744-c8a581f4ae79"
      },
      "source": [
        "#predict on the first 5 test images\r\n",
        "predictions = model.predict(test_images[:8])\r\n",
        "\r\n",
        "#print our models prediction \r\n",
        "print(np.argmax(predictions, axis = 1))\r\n",
        "print(test_labels[:8])"
      ],
      "execution_count": null,
      "outputs": [
        {
          "output_type": "stream",
          "text": [
            "[7 2 1 0 4 1 4 9]\n",
            "[7 2 1 0 4 1 4 9]\n"
          ],
          "name": "stdout"
        }
      ]
    },
    {
      "cell_type": "code",
      "metadata": {
        "colab": {
          "base_uri": "https://localhost:8080/",
          "height": 1000
        },
        "id": "eQjZRUcJm1pM",
        "outputId": "1aca910e-2dd2-44da-f5fc-9b4945aeaf72"
      },
      "source": [
        "for i in range(0,8):\r\n",
        "  print_image = test_images[i]\r\n",
        "  print_image = np.array(print_image, dtype=\"float\")\r\n",
        "  pixels = print_image.reshape((28,28))\r\n",
        "  plt.imshow(pixels)\r\n",
        "  plt.show()"
      ],
      "execution_count": null,
      "outputs": [
        {
          "output_type": "display_data",
          "data": {
            "image/png": "[encoded data removed]",
            "text/plain": [
              "<Figure size 432x288 with 1 Axes>"
            ]
          },
          "metadata": {
            "tags": [],
            "needs_background": "light"
          }
        },
        {
          "output_type": "display_data",
          "data": {
            "image/png": "[encoded data removed]",
            "text/plain": [
              "<Figure size 432x288 with 1 Axes>"
            ]
          },
          "metadata": {
            "tags": [],
            "needs_background": "light"
          }
        },
        {
          "output_type": "display_data",
          "data": {
            "image/png": "[encoded data removed]",
            "text/plain": [
              "<Figure size 432x288 with 1 Axes>"
            ]
          },
          "metadata": {
            "tags": [],
            "needs_background": "light"
          }
        },
        {
          "output_type": "display_data",
          "data": {
            "image/png": "[encoded data removed]",
            "text/plain": [
              "<Figure size 432x288 with 1 Axes>"
            ]
          },
          "metadata": {
            "tags": [],
            "needs_background": "light"
          }
        },
        {
          "output_type": "display_data",
          "data": {
            "image/png": "[encoded data removed]",
            "text/plain": [
              "<Figure size 432x288 with 1 Axes>"
            ]
          },
          "metadata": {
            "tags": [],
            "needs_background": "light"
          }
        },
        {
          "output_type": "display_data",
          "data": {
            "image/png": "[encoded data removed]",
            "text/plain": [
              "<Figure size 432x288 with 1 Axes>"
            ]
          },
          "metadata": {
            "tags": [],
            "needs_background": "light"
          }
        },
        {
          "output_type": "display_data",
          "data": {
            "image/png": "[encoded data removed]",
            "text/plain": [
              "<Figure size 432x288 with 1 Axes>"
            ]
          },
          "metadata": {
            "tags": [],
            "needs_background": "light"
          }
        },
        {
          "output_type": "display_data",
          "data": {
            "image/png": "[encoded data removed]",
            "text/plain": [
              "<Figure size 432x288 with 1 Axes>"
            ]
          },
          "metadata": {
            "tags": [],
            "needs_background": "light"
          }
        }
      ]
    },
    {
      "cell_type": "code",
      "metadata": {
        "id": "0JTE0UbgmMMU"
      },
      "source": [
        ""
      ],
      "execution_count": null,
      "outputs": []
    }
  ]
}